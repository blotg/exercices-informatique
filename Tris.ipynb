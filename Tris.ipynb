{
 "cells": [
  {
   "cell_type": "markdown",
   "metadata": {},
   "source": [
    "# Les tris\n",
    "Les tris sont des algorythmes très utilisés, notamment avant de stocker des résultats, notamment car la recherche dans une liste trièée est bien plus rapide que dans une liste non triée.\n",
    "## Tri par insertion\n",
    "### Algorithme\n",
    "Le principe du tri par insertion est de trier progressivement une liste en insérant les éléments un à un à sa place dans le début de la listé qui est trié."
   ]
  },
  {
   "cell_type": "code",
   "execution_count": 14,
   "metadata": {},
   "outputs": [],
   "source": [
    "def tri_insertion(l):\n",
    "    \"\"\"Trie sur place la liste l en utilisant le tri par insertion\n",
    "    \"\"\"\n",
    "    for i in range(1,len(l)):\n",
    "        # Ici, l est triée jusqu'à l'indice i exclus.\n",
    "        # Il reste à insérer l[i] dans l[:i] qui est triée\n",
    "        temp = l[i]  # on stocke la valeur à insérer (l[i] sera écrasé)\n",
    "        j=i\n",
    "        while j>0 and temp<l[j-1]:  # on parcourt l[:i] jusqu'à ce qu'on ait trouvé la\n",
    "                                    # place de temp\n",
    "            l[j]=l[j-1]  # tant qu'on n'a pas trouvé sa place, on décale les éléments\n",
    "                         # de l[:i]\n",
    "            j=j-1\n",
    "        l[j]=temp  # une fois la place de temp trouvée, on l'y met"
   ]
  },
  {
   "cell_type": "markdown",
   "metadata": {},
   "source": [
    "### Test et complexité spatiale\n",
    "On peut tester cet algorythme sur un exemple simple :"
   ]
  },
  {
   "cell_type": "code",
   "execution_count": 30,
   "metadata": {},
   "outputs": [
    {
     "name": "stdout",
     "output_type": "stream",
     "text": [
      "[8, 4, 10, 3, 9, 3, 2, 3, 5, 5]\n",
      "[2, 3, 3, 3, 4, 5, 5, 8, 9, 10]\n"
     ]
    }
   ],
   "source": [
    "from random import randint\n",
    "liste1 = [randint(0,10) for i in range(10)]\n",
    "print(liste1)\n",
    "tri_insertion(liste1)\n",
    "print(liste1)\n",
    "liste2 = [randint(0,10) for i in range(10)]  # avoir une autre liste triée nous\n",
    "                                             # servira pour la suite\n",
    "tri_insertion(liste2)"
   ]
  },
  {
   "cell_type": "markdown",
   "metadata": {},
   "source": [
    "Le tri insertion ainsi écrit est dit \"sur place\" : il modifie la liste en la triant et nécessite peu d'espace mémoire."
   ]
  },
  {
   "cell_type": "markdown",
   "metadata": {},
   "source": [
    "### Complexité temporelle\n",
    "On choisit de compter le nombre de comparaison avec un élément de la liste : \"temp<l[j-1]\"\n",
    "La complexité de cet algorithme dépend du nombre d'exécutions de la boucle while qui dépend de la liste fournie en argument. On peut l'évaluer dans 2 cas : \n",
    "#### Meilleur des cas : la liste est déjà triée\n",
    "Si la liste est déjà triée, \"temp<l[j-1]\" vaut False et on ne rentre pas dans la boucle while. \"temp<l[j-1]\" aura donc été exécuté une seule fois par tour de boucle : $$C(n)=\\sum_{i=1}^{n-1} 1 =n-1=O(n)$$\n",
    "#### Pire des cas : la liste est trée dans l'ordre décroissant\n",
    "Si la liste est déjà triée das l'ordre décroissant, \"temp<l[j-1]\" vaut True à chaque appel et la boucle while est exécutée i fois. \"temp<l[j-1]\" aura donc été exécuté i fois par tour de boucle : $$C(n)=\\sum_{i=1}^{n-1} i =\\frac{n(n-1)}{2}=O(n^2)$$\n",
    "#### Complecité en moyenne\n",
    "On admet que la complexité se fait en moyenne en $O(n^2)$"
   ]
  },
  {
   "cell_type": "markdown",
   "metadata": {},
   "source": [
    "## Tri fusion\n",
    "Le tri fusion repose sur le principe \"diviser pour reigner\".\n",
    "- Trier une liste vide ou d'un élément est facile : il n'y a rien à faire.\n",
    "- Pour trier une liste d'au moins deux éléments, il suffit de la couper en deux, de trier chacune de deux moitiers puis de fusionner les deux listes triées.\n",
    "### Fusion\n",
    "Pour réaliser le tri fusion, on doit d'abbord disposer d'une fonction fusion qui fusionne deux listes triées en une liste triée contenant les éléments des deux listes prises en argument."
   ]
  },
  {
   "cell_type": "code",
   "execution_count": 25,
   "metadata": {},
   "outputs": [],
   "source": [
    "def fusion(l1,l2):\n",
    "    l = []  # liste qui contiendra la fusion de l1 et l2\n",
    "    i1 = 0  # indice pour parcourrir l1\n",
    "    i2 = 0  # indice pour parcourrir l2\n",
    "    while i1+i2 < len(l1)+len(l2):  # on a fini si l a autant d'éléments que l1 et l2\n",
    "                                    # réunis\n",
    "        if i1 >= len(l1):  # si on a pris tous les éléments de l1\n",
    "            l.append(l2[i2])  # on prend un élément de l2\n",
    "            i2 += 1\n",
    "        elif i2 >= len(l2):  # idem dans l'autre sens\n",
    "            l.append(l1[i1])\n",
    "            i1 += 1\n",
    "        elif l1[i1] < l2[i2]:  # si le premier élément de l1 est plus petit que celui\n",
    "                               # de l2\n",
    "            l.append(l1[i1])  # on prend le 1er élément de l1\n",
    "            i1 += 1\n",
    "        else:  # idem dans l'autre sens\n",
    "            l.append(l2[i2])\n",
    "            i2 += 1\n",
    "        # Ici les i1+i2 premiers éléments de l sont les bons\n",
    "    return l"
   ]
  },
  {
   "cell_type": "markdown",
   "metadata": {},
   "source": [
    "On peut tester la fonction fusion :"
   ]
  },
  {
   "cell_type": "code",
   "execution_count": 28,
   "metadata": {},
   "outputs": [
    {
     "name": "stdout",
     "output_type": "stream",
     "text": [
      "[0, 0, 2, 2, 3, 5, 6, 7, 8, 10]\n",
      "[0, 2, 3, 5, 5, 5, 6, 7, 9, 10]\n",
      "[0, 0, 0, 2, 2, 2, 3, 3, 5, 5, 5, 5, 6, 6, 7, 7, 8, 9, 10, 10]\n"
     ]
    }
   ],
   "source": [
    "print(liste1)\n",
    "print(liste2)\n",
    "print(fusion(liste1,liste2))"
   ]
  },
  {
   "cell_type": "markdown",
   "metadata": {},
   "source": [
    "### Tri fusion"
   ]
  },
  {
   "cell_type": "code",
   "execution_count": 29,
   "metadata": {},
   "outputs": [],
   "source": [
    "def tri_fusion(l):\n",
    "    if len(l) <= 1:  # si la liste contient 1 ou 0 élément, elle est déjà triée\n",
    "        return l\n",
    "    else:\n",
    "        i = len(l)//2  # indice du milieu de l\n",
    "        return fusion(tri_fusion(l[:i]), tri_fusion(l[i:]))  # on coupe en 2, on trie\n",
    "                                                             # et on fusionne"
   ]
  },
  {
   "cell_type": "markdown",
   "metadata": {},
   "source": [
    "### Test et complecité spatiale\n",
    "Le tri fusion ne modifie pas la liste passée en argument, il crée une nouvelle liste. Il n'est pas sur place. De la mémoire est utilisée en plus de la mémoire déjà utilisée par la liste à trier.\n",
    "\n",
    "**Remarque :** Il est possible d'écrire une version sur place du tri fusion."
   ]
  },
  {
   "cell_type": "code",
   "execution_count": 32,
   "metadata": {},
   "outputs": [
    {
     "name": "stdout",
     "output_type": "stream",
     "text": [
      "[7, 7, 3, 6, 0, 8, 1, 5, 1, 8]\n",
      "[0, 1, 1, 3, 5, 6, 7, 7, 8, 8]\n"
     ]
    }
   ],
   "source": [
    "liste = [randint(0,10) for i in range(10)]\n",
    "print(liste)\n",
    "print(tri_fusion(liste))"
   ]
  },
  {
   "cell_type": "markdown",
   "metadata": {},
   "source": [
    "### Complexité\n",
    "#### Complexité de la fonction fusion\n",
    "Notons $N_1$ et $N_2$ les nombres d'éléments des listes l1 et l2 et $F(N_1,N_2)$ le nombre d'appel à la fonction append. Dans la boucle while, soit i1 soit i2 augmente d'un, i1+i2 augmente donc d'un par tour de boucle, il y a donc $N_1+N_2$ tours de boucle, donc $N_1+N_2$ appels à la fonction append : $F(N_1,N_2)=N_1+N_2$\n",
    "#### Complexité du tri fusion\n",
    "Soit $N$ le nombre d'éléments de la liste à trier. Faisons l'hypothèse que $N$ soit une puissance de 2 : $N=2^p$, i.e. $p=\\log_2(N)$.\n",
    "On compte le nombre d'appels à la fonction append (qui a lieu, comme on l'a vu dans la fonction fusion).\n",
    "$$C(N) = C(\\frac{N}{2}) + C(\\frac{N}{2}) + F(\\frac{N}{2},\\frac{N}{2}) = N + 2C(\\frac{N}{2})$$\n",
    "Notons $c(p)=C(2^p)$\n",
    "$$c(p)=C(2^p)=2^p + 2\\times C(\\frac{2^p}{2})=2^p + 2\\times C(2^{p-1})=2^p+2\\times c(p-1)$$\n",
    "$$\\frac{c(p)}{2^p}=1+\\frac{c(p-1)}{2^{p-1}}$$\n",
    "Posons $u_p=\\frac{c(2^p)}{2^p}$, alors\n",
    "$$u_p=1+u_{p-1}$$\n",
    "De plus, $C(1)=0$ donc $c(0)=0$ donc $u_0=0$ d'où\n",
    "$$u_p=p$$\n",
    "$$c(p)=2^p\\times p$$\n",
    "$$C(N)=2^{\\log_2(N)}\\times \\log_2(N)=N\\times \\log_2(N)$$"
   ]
  },
  {
   "cell_type": "code",
   "execution_count": null,
   "metadata": {},
   "outputs": [],
   "source": []
  }
 ],
 "metadata": {
  "celltoolbar": "Aucun(e)",
  "kernelspec": {
   "display_name": "Python 3",
   "language": "python",
   "name": "python3"
  },
  "language_info": {
   "codemirror_mode": {
    "name": "ipython",
    "version": 3
   },
   "file_extension": ".py",
   "mimetype": "text/x-python",
   "name": "python",
   "nbconvert_exporter": "python",
   "pygments_lexer": "ipython3",
   "version": "3.7.3"
  }
 },
 "nbformat": 4,
 "nbformat_minor": 2
}
